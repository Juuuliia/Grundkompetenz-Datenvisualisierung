{
 "cells": [
  {
   "cell_type": "code",
   "execution_count": 1,
   "id": "a8b27401",
   "metadata": {},
   "outputs": [],
   "source": [
    "import pandas as pd\n",
    "import matplotlib.pyplot as plt\n",
    "import numpy as np"
   ]
  },
  {
   "cell_type": "markdown",
   "id": "8588604f",
   "metadata": {},
   "source": [
    "# LE1"
   ]
  },
  {
   "cell_type": "code",
   "execution_count": 2,
   "id": "90caf60b",
   "metadata": {},
   "outputs": [
    {
     "data": {
      "text/html": [
       "<div>\n",
       "<style scoped>\n",
       "    .dataframe tbody tr th:only-of-type {\n",
       "        vertical-align: middle;\n",
       "    }\n",
       "\n",
       "    .dataframe tbody tr th {\n",
       "        vertical-align: top;\n",
       "    }\n",
       "\n",
       "    .dataframe thead th {\n",
       "        text-align: right;\n",
       "    }\n",
       "</style>\n",
       "<table border=\"1\" class=\"dataframe\">\n",
       "  <thead>\n",
       "    <tr style=\"text-align: right;\">\n",
       "      <th></th>\n",
       "      <th>date</th>\n",
       "      <th>timestamp</th>\n",
       "      <th>mass</th>\n",
       "      <th>velocity</th>\n",
       "      <th>zone</th>\n",
       "    </tr>\n",
       "  </thead>\n",
       "  <tbody>\n",
       "    <tr>\n",
       "      <th>0</th>\n",
       "      <td>2019-01-01</td>\n",
       "      <td>09:00</td>\n",
       "      <td>194</td>\n",
       "      <td>8.4</td>\n",
       "      <td>1</td>\n",
       "    </tr>\n",
       "    <tr>\n",
       "      <th>1</th>\n",
       "      <td>2019-01-01</td>\n",
       "      <td>21:00</td>\n",
       "      <td>224</td>\n",
       "      <td>8.8</td>\n",
       "      <td>1</td>\n",
       "    </tr>\n",
       "    <tr>\n",
       "      <th>2</th>\n",
       "      <td>2019-01-02</td>\n",
       "      <td>14:00</td>\n",
       "      <td>3104</td>\n",
       "      <td>9.2</td>\n",
       "      <td>1</td>\n",
       "    </tr>\n",
       "    <tr>\n",
       "      <th>3</th>\n",
       "      <td>2019-01-04</td>\n",
       "      <td>15:00</td>\n",
       "      <td>228</td>\n",
       "      <td>8.0</td>\n",
       "      <td>1</td>\n",
       "    </tr>\n",
       "    <tr>\n",
       "      <th>4</th>\n",
       "      <td>2019-01-05</td>\n",
       "      <td>23:00</td>\n",
       "      <td>755</td>\n",
       "      <td>7.0</td>\n",
       "      <td>1</td>\n",
       "    </tr>\n",
       "  </tbody>\n",
       "</table>\n",
       "</div>"
      ],
      "text/plain": [
       "         date timestamp  mass  velocity zone\n",
       "0  2019-01-01     09:00   194       8.4    1\n",
       "1  2019-01-01     21:00   224       8.8    1\n",
       "2  2019-01-02     14:00  3104       9.2    1\n",
       "3  2019-01-04     15:00   228       8.0    1\n",
       "4  2019-01-05     23:00   755       7.0    1"
      ]
     },
     "execution_count": 2,
     "metadata": {},
     "output_type": "execute_result"
    }
   ],
   "source": [
    "# Daten einlesen\n",
    "dataFile1 = pd.read_csv(\"out_1.csv\")\n",
    "dataFile2 = pd.read_csv(\"out_2.csv\")\n",
    "#Zone hinzufügen\n",
    "dataFile1[\"zone\"]=\"1\"\n",
    "dataFile2[\"zone\"]=\"2\"\n",
    "# Zonen zusammenfügen\n",
    "steinschlaege = dataFile1.append(dataFile2)\n",
    "steinschlaege.head()\n"
   ]
  },
  {
   "cell_type": "code",
   "execution_count": 3,
   "id": "996c6ff4",
   "metadata": {},
   "outputs": [
    {
     "data": {
      "image/png": "[encoded data removed]",
      "text/plain": [
       "<Figure size 432x288 with 1 Axes>"
      ]
     },
     "metadata": {
      "needs_background": "light"
     },
     "output_type": "display_data"
    }
   ],
   "source": [
    "# Abbildung 1: Geschwindigkeit in m/s je nach Masse für Zone 1\n",
    "plt.scatter(dataFile1[\"mass\"],dataFile1[\"velocity\"],color = \"hotpink\")\n",
    "plt.axis([-100,3000,0,50])\n",
    "plt.title(\"Geschwindigkeit in m/s je nach Masse für Zone 1\")\n",
    "plt.xlabel(\"Masse\")\n",
    "plt.ylabel(\"Gescheindigkeit in m/s\")\n",
    "plt.show()"
   ]
  },
  {
   "cell_type": "code",
   "execution_count": 4,
   "id": "79a65da7",
   "metadata": {},
   "outputs": [
    {
     "data": {
      "image/png": "[encoded data removed]",
      "text/plain": [
       "<Figure size 432x288 with 1 Axes>"
      ]
     },
     "metadata": {
      "needs_background": "light"
     },
     "output_type": "display_data"
    }
   ],
   "source": [
    "# Abbildung 2: Geschwindigkeit in m/s je nach Masse für Zone 2\n",
    "plt.scatter(dataFile2[\"mass\"],dataFile2[\"velocity\"],color=\"hotpink\")\n",
    "plt.axis([-100,3000,0,50])\n",
    "plt.title(\"Geschwindigkeit in m/s je nach Masse für Zone 2\")\n",
    "plt.xlabel(\"Masse\")\n",
    "plt.ylabel(\"Gescheindigkeit in m/s\")\n",
    "plt.show()"
   ]
  },
  {
   "cell_type": "code",
   "execution_count": 5,
   "id": "d8083b84",
   "metadata": {},
   "outputs": [
    {
     "data": {
      "image/png": "[encoded data removed]",
      "text/plain": [
       "<Figure size 432x288 with 1 Axes>"
      ]
     },
     "metadata": {
      "needs_background": "light"
     },
     "output_type": "display_data"
    }
   ],
   "source": [
    "# Abbildung 3: Geschwindigkeit in m/s nach Ablösungszone\n",
    "x1= dataFile1[\"mass\"]\n",
    "x2=dataFile2[\"mass\"]\n",
    "y1=dataFile1[\"velocity\"]\n",
    "y2=dataFile2[\"velocity\"]\n",
    "\n",
    "plt.scatter(x1,y1,c=\"hotpink\")\n",
    "plt.scatter(x2,y2,c=\"darkgreen\")\n",
    "plt.xlabel(\"Masse\")\n",
    "plt.ylabel(\"Geschwindigkeit in m/s\")\n",
    "plt.title(\"Geschwindigkeit in m/s je nach Masse für Zone kombiniert / rosa: Zone 1, grün: Zone 2\")\n",
    "plt.show()"
   ]
  },
  {
   "cell_type": "code",
   "execution_count": 24,
   "id": "445a6292",
   "metadata": {},
   "outputs": [
    {
     "data": {
      "image/png": "[encoded data removed]",
      "text/plain": [
       "<Figure size 432x288 with 1 Axes>"
      ]
     },
     "metadata": {
      "needs_background": "light"
     },
     "output_type": "display_data"
    }
   ],
   "source": [
    "# Abbildung 4 : Geschwindigkeit in m/s nach Ablösungszone \n",
    "steinschlaege.boxplot(column=\"velocity\", by=\"zone\",color=\"hotpink\")\n",
    "plt.title(\"Geschwindigkeit in m/s nach Ablösungszone\")\n",
    "plt.suptitle(\" \")\n",
    "plt.xlabel(\"Ablösungszone\")\n",
    "plt.ylabel(\"Geschwindigkeit in m/s\")\n",
    "plt.show()"
   ]
  },
  {
   "cell_type": "code",
   "execution_count": 17,
   "id": "347ef055",
   "metadata": {},
   "outputs": [
    {
     "data": {
      "text/html": [
       "<div>\n",
       "<style scoped>\n",
       "    .dataframe tbody tr th:only-of-type {\n",
       "        vertical-align: middle;\n",
       "    }\n",
       "\n",
       "    .dataframe tbody tr th {\n",
       "        vertical-align: top;\n",
       "    }\n",
       "\n",
       "    .dataframe thead th {\n",
       "        text-align: right;\n",
       "    }\n",
       "</style>\n",
       "<table border=\"1\" class=\"dataframe\">\n",
       "  <thead>\n",
       "    <tr style=\"text-align: right;\">\n",
       "      <th></th>\n",
       "      <th>index</th>\n",
       "      <th>date</th>\n",
       "      <th>timestamp</th>\n",
       "      <th>mass</th>\n",
       "      <th>velocity</th>\n",
       "      <th>zone</th>\n",
       "    </tr>\n",
       "  </thead>\n",
       "  <tbody>\n",
       "    <tr>\n",
       "      <th>0</th>\n",
       "      <td>0</td>\n",
       "      <td>2019-01-01</td>\n",
       "      <td>09:00</td>\n",
       "      <td>194</td>\n",
       "      <td>8.4</td>\n",
       "      <td>1</td>\n",
       "    </tr>\n",
       "    <tr>\n",
       "      <th>1</th>\n",
       "      <td>0</td>\n",
       "      <td>2019-01-01</td>\n",
       "      <td>09:00</td>\n",
       "      <td>38</td>\n",
       "      <td>45.4</td>\n",
       "      <td>2</td>\n",
       "    </tr>\n",
       "    <tr>\n",
       "      <th>2</th>\n",
       "      <td>1</td>\n",
       "      <td>2019-01-01</td>\n",
       "      <td>21:00</td>\n",
       "      <td>224</td>\n",
       "      <td>8.8</td>\n",
       "      <td>1</td>\n",
       "    </tr>\n",
       "    <tr>\n",
       "      <th>3</th>\n",
       "      <td>2</td>\n",
       "      <td>2019-01-02</td>\n",
       "      <td>14:00</td>\n",
       "      <td>3104</td>\n",
       "      <td>9.2</td>\n",
       "      <td>1</td>\n",
       "    </tr>\n",
       "    <tr>\n",
       "      <th>4</th>\n",
       "      <td>1</td>\n",
       "      <td>2019-01-03</td>\n",
       "      <td>06:00</td>\n",
       "      <td>187</td>\n",
       "      <td>41.6</td>\n",
       "      <td>2</td>\n",
       "    </tr>\n",
       "    <tr>\n",
       "      <th>...</th>\n",
       "      <td>...</td>\n",
       "      <td>...</td>\n",
       "      <td>...</td>\n",
       "      <td>...</td>\n",
       "      <td>...</td>\n",
       "      <td>...</td>\n",
       "    </tr>\n",
       "    <tr>\n",
       "      <th>95</th>\n",
       "      <td>30</td>\n",
       "      <td>2019-03-25</td>\n",
       "      <td>14:00</td>\n",
       "      <td>63</td>\n",
       "      <td>43.2</td>\n",
       "      <td>2</td>\n",
       "    </tr>\n",
       "    <tr>\n",
       "      <th>96</th>\n",
       "      <td>66</td>\n",
       "      <td>2019-03-26</td>\n",
       "      <td>06:00</td>\n",
       "      <td>45</td>\n",
       "      <td>8.4</td>\n",
       "      <td>1</td>\n",
       "    </tr>\n",
       "    <tr>\n",
       "      <th>97</th>\n",
       "      <td>65</td>\n",
       "      <td>2019-03-26</td>\n",
       "      <td>00:00</td>\n",
       "      <td>44</td>\n",
       "      <td>8.9</td>\n",
       "      <td>1</td>\n",
       "    </tr>\n",
       "    <tr>\n",
       "      <th>98</th>\n",
       "      <td>67</td>\n",
       "      <td>2019-03-27</td>\n",
       "      <td>16:00</td>\n",
       "      <td>312</td>\n",
       "      <td>5.8</td>\n",
       "      <td>1</td>\n",
       "    </tr>\n",
       "    <tr>\n",
       "      <th>99</th>\n",
       "      <td>31</td>\n",
       "      <td>2019-03-28</td>\n",
       "      <td>01:00</td>\n",
       "      <td>58</td>\n",
       "      <td>37.2</td>\n",
       "      <td>2</td>\n",
       "    </tr>\n",
       "  </tbody>\n",
       "</table>\n",
       "<p>100 rows × 6 columns</p>\n",
       "</div>"
      ],
      "text/plain": [
       "    index        date timestamp  mass  velocity zone\n",
       "0       0  2019-01-01     09:00   194       8.4    1\n",
       "1       0  2019-01-01     09:00    38      45.4    2\n",
       "2       1  2019-01-01     21:00   224       8.8    1\n",
       "3       2  2019-01-02     14:00  3104       9.2    1\n",
       "4       1  2019-01-03     06:00   187      41.6    2\n",
       "..    ...         ...       ...   ...       ...  ...\n",
       "95     30  2019-03-25     14:00    63      43.2    2\n",
       "96     66  2019-03-26     06:00    45       8.4    1\n",
       "97     65  2019-03-26     00:00    44       8.9    1\n",
       "98     67  2019-03-27     16:00   312       5.8    1\n",
       "99     31  2019-03-28     01:00    58      37.2    2\n",
       "\n",
       "[100 rows x 6 columns]"
      ]
     },
     "execution_count": 17,
     "metadata": {},
     "output_type": "execute_result"
    }
   ],
   "source": [
    "steinschlaege = steinschlaege.sort_values(\"date\")\n",
    "steinschlaege.reset_index()"
   ]
  },
  {
   "cell_type": "code",
   "execution_count": 18,
   "id": "84e3e377",
   "metadata": {},
   "outputs": [
    {
     "name": "stdout",
     "output_type": "stream",
     "text": [
      "37\n",
      "32\n",
      "31\n"
     ]
    },
    {
     "name": "stderr",
     "output_type": "stream",
     "text": [
      "<ipython-input-18-ba850bb1b160>:10: SettingWithCopyWarning: \n",
      "A value is trying to be set on a copy of a slice from a DataFrame.\n",
      "Try using .loc[row_indexer,col_indexer] = value instead\n",
      "\n",
      "See the caveats in the documentation: https://pandas.pydata.org/pandas-docs/stable/user_guide/indexing.html#returning-a-view-versus-a-copy\n",
      "  steinschlaege[0:37][\"monat\"] = \"Januar\"\n",
      "<ipython-input-18-ba850bb1b160>:11: SettingWithCopyWarning: \n",
      "A value is trying to be set on a copy of a slice from a DataFrame.\n",
      "Try using .loc[row_indexer,col_indexer] = value instead\n",
      "\n",
      "See the caveats in the documentation: https://pandas.pydata.org/pandas-docs/stable/user_guide/indexing.html#returning-a-view-versus-a-copy\n",
      "  steinschlaege[38:69][\"monat\"] = \"Februar\"\n",
      "<ipython-input-18-ba850bb1b160>:12: SettingWithCopyWarning: \n",
      "A value is trying to be set on a copy of a slice from a DataFrame.\n",
      "Try using .loc[row_indexer,col_indexer] = value instead\n",
      "\n",
      "See the caveats in the documentation: https://pandas.pydata.org/pandas-docs/stable/user_guide/indexing.html#returning-a-view-versus-a-copy\n",
      "  steinschlaege[70:100][\"monat\"] = \"März\"\n"
     ]
    }
   ],
   "source": [
    "januar = steinschlaege[(steinschlaege[\"date\"]>=\"2019-01-01\") & (steinschlaege[\"date\"]<\"2019-02-01\")]\n",
    "anzJanuar = print(januar.shape[0])\n",
    "\n",
    "februar = steinschlaege[(steinschlaege[\"date\"]>=\"2019-02-01\") & (steinschlaege[\"date\"]<\"2019-03-01\")]\n",
    "anzFebruar = print(februar.shape[0])\n",
    "\n",
    "maerz = steinschlaege[(steinschlaege[\"date\"]>=\"2019-03-01\") & (steinschlaege[\"date\"]<=\"2019-03-31\")]\n",
    "anzMaerz = print(maerz.shape[0])\n",
    "\n",
    "steinschlaege[0:37][\"monat\"] = \"Januar\"\n",
    "steinschlaege[38:69][\"monat\"] = \"Februar\"\n",
    "steinschlaege[70:100][\"monat\"] = \"März\""
   ]
  },
  {
   "cell_type": "code",
   "execution_count": 19,
   "id": "13ffa5c6",
   "metadata": {},
   "outputs": [
    {
     "data": {
      "text/plain": [
       "Text(0.5, 1.0, 'Tageszeitpunkt der Steinschläge')"
      ]
     },
     "execution_count": 19,
     "metadata": {},
     "output_type": "execute_result"
    },
    {
     "data": {
      "image/png": "[encoded data removed]",
      "text/plain": [
       "<Figure size 432x288 with 1 Axes>"
      ]
     },
     "metadata": {
      "needs_background": "light"
     },
     "output_type": "display_data"
    }
   ],
   "source": [
    "# Abbildung 5: Tageszeitpunkt der Steinschläge\n",
    "plt.bar(my_labels,my_data,color=\"hotpink\")\n",
    "plt.ylabel(\"Anzahl Steine\")\n",
    "plt.axis([-0.5,3.5,0,35])\n",
    "plt.title(\"Tageszeitpunkt der Steinschläge\")"
   ]
  },
  {
   "cell_type": "code",
   "execution_count": 21,
   "id": "bec075d8",
   "metadata": {},
   "outputs": [
    {
     "data": {
      "image/png": "[encoded data removed]",
      "text/plain": [
       "<Figure size 432x288 with 1 Axes>"
      ]
     },
     "metadata": {},
     "output_type": "display_data"
    }
   ],
   "source": [
    "# Abbildung 6: Tageszeitpunkt der Steinschläge\n",
    "my_data = [21,33,28,18]\n",
    "my_labels = \"Morgen\",\"Nachmittag\",\"Abend\",\"Nacht\"\n",
    "plt.pie(my_data,labels=my_labels,autopct=\"%1.1f%%\")\n",
    "plt.title(\"Tageszeitpunkt der Steinschläge\")\n",
    "plt.show()"
   ]
  }
 ],
 "metadata": {
  "kernelspec": {
   "display_name": "Python 3",
   "language": "python",
   "name": "python3"
  },
  "language_info": {
   "codemirror_mode": {
    "name": "ipython",
    "version": 3
   },
   "file_extension": ".py",
   "mimetype": "text/x-python",
   "name": "python",
   "nbconvert_exporter": "python",
   "pygments_lexer": "ipython3",
   "version": "3.8.8"
  }
 },
 "nbformat": 4,
 "nbformat_minor": 5
}
